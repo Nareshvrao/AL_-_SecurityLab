{
  "nbformat": 4,
  "nbformat_minor": 0,
  "metadata": {
    "colab": {
      "name": "AISec-Lab4.ipynb",
      "provenance": []
    },
    "kernelspec": {
      "name": "python3",
      "display_name": "Python 3"
    }
  },
  "cells": [
    {
      "cell_type": "markdown",
      "metadata": {
        "id": "Zv0y9Xlc2NV4",
        "colab_type": "text"
      },
      "source": [
        "# **Anomaly Detection in Network Traffic with K-means clustering**\n",
        "We can categorize machine learning algorithms into two main groups: supervised learning and unsupervised learning. With supervised learning algorithms, in order to predict unknown values for new data, we have to know the target value for many previously-seen examples. In contrast, unsupervised learning algorithms explore the data which has no target attribute to find some intrinsic structures in them.\n",
        "\n",
        "Clustering is a technique for finding similar groups in data, called clusters. Clustering is often called an unsupervised learning task as no class values denoting an a priori grouping of the data instances are given.\n",
        "\n",
        "In this notebook, we will use K-means, a very well known clustering algorithm to detect anomaly network connections based on statistics about each of them. For a thorough overview of K-means clustering, from a research perspective, have a look at this wonderful tutorial.\n",
        "\n",
        "# Goals\n",
        "We expect students to:\n",
        "* Learn (or revise) and understand the K-means algorithm\n",
        "* Implement a simple K-means algorithm\n",
        "* Use K-means to detect anomalies network connection data\n",
        "\n",
        "# Steps\n",
        "1. In section 1, we will have an overview about K-means then implement a simple version of it.\n",
        "2. In section 2, we build models with and without categorical features.\n",
        "3. Finally, in the last section, using our models, we will detect unsual connections."
      ]
    },
    {
      "cell_type": "markdown",
      "metadata": {
        "id": "If9-fb0b2gpE",
        "colab_type": "text"
      },
      "source": [
        "# **1. K-means**\n",
        "# **1.1. Introduction**\n",
        "Clustering is a typical and well-known type of unsupervised learning. Clustering algorithms try to find natural groupings in data. Similar data points (according to some notion of similarity) are considered in the same group. We call these groups **clusters**.\n",
        "\n",
        "K-Means clustering is a simple and widely-used clustering algorithm. Given value of  k , it tries to build  k  clusters from samples in the dataset. Therefore,  k  is an hyperparameter of the model. The right value of  k  is not easy to determine, as it highly depends on the data set and the way that data is featurized.\n",
        "\n",
        "To measue the similarity between any two data points, K-means requires the definition of a distance funtion between data points. What is a distance? It is a value that indicates how close two data points are in their space. In particular, when data points lie in a  d -dimensional space, the Euclidean distance is a good choice of a distance function, and is supported by MLLIB.\n",
        "\n",
        "In K-means, a cluster is a group of points, with a representative entity called a centroid. A centroid is also a point in the data space: the center of all the points that make up the cluster. It's defined to be the arithmetic mean of the points. In general, when working with K-means, each data sample is represented in a  d -dimensional numeric vector, for which it is easier to define an appropriate distance function. As a consequence, in some applications, the original data must be transformed into a different representation, to fit the requirements of K-means.\n",
        "\n",
        "# **1.2. How does it work ?**\n",
        "Given  k , the K-means algorithm works as follows:\n",
        "\n",
        "1. Randomly choose  k  data points (seeds) to be the initial centroids\n",
        "2. Assign each data point to the closest centroid\n",
        "3. Re-compute (update) the centroids using the current cluster memberships\n",
        "4. If a convergence criterion is not met, go to step 2\n",
        "\n",
        "We can also terminate the algorithm when it reaches an iteration budget, which yields an approximate result. From the pseudo-code of the algorithm, we can see that K-means clustering results can be sensitive to the order in which data samples in the data set are explored. A sensible practice would be to run the analysis several times, randomizing objects order; then, average the cluster centres of those runs and input the centres as initial ones for one final run of the analysis.\n",
        "\n",
        "# **1.3. Illustrative example**\n",
        "One of the best ways to study an algorithm is trying implement it. In this section, we will go step by step to implement a simple K-means algorithm."
      ]
    },
    {
      "cell_type": "markdown",
      "metadata": {
        "id": "TG6LBq9e3TFV",
        "colab_type": "text"
      },
      "source": [
        "Use the below function to calculate an euclidean distance between any two points in  d -dimensional data space."
      ]
    },
    {
      "cell_type": "code",
      "metadata": {
        "id": "MLJdVnXd1r1f",
        "colab_type": "code",
        "colab": {}
      },
      "source": [
        "import numpy as np\n",
        "\n",
        "# calculate distance between two d-dimensional points\n",
        "def euclidean_distance(p1, p2):\n",
        "    return np.sqrt(np.sum([(c1 - c2)**2 for c1, c2 in zip(p1, p2)]))\n",
        "\n",
        "# test our function\n",
        "assert (round(euclidean_distance([1,2,3] , [10,18,12]), 2) == 20.45), \"Function's wrong\""
      ],
      "execution_count": 0,
      "outputs": []
    },
    {
      "cell_type": "markdown",
      "metadata": {
        "id": "ZSEXOoo-3xKg",
        "colab_type": "text"
      },
      "source": [
        "Given a data point and the current set of centroids, use the function below to find the index of the closest centroid for that data point."
      ]
    },
    {
      "cell_type": "code",
      "metadata": {
        "id": "WzB2Z3c2346m",
        "colab_type": "code",
        "colab": {}
      },
      "source": [
        "def find_closest_centroid(datapoint, centroids):\n",
        "    # find the index of the closest centroid of the given data point.\n",
        "    return min(enumerate(centroids), key=lambda x: euclidean_distance(datapoint, x[1]))[0]\n",
        "\n",
        "assert(find_closest_centroid( [1,1,1], [ [2,1,2], [1,2,1], [3,1,2] ] ) == 1), \"Function's wrong\""
      ],
      "execution_count": 0,
      "outputs": []
    },
    {
      "cell_type": "markdown",
      "metadata": {
        "id": "4H3VcqRK38NV",
        "colab_type": "text"
      },
      "source": [
        "Use the function below to randomize  k  initial centroids."
      ]
    },
    {
      "cell_type": "code",
      "metadata": {
        "id": "2x8l-g5u3-7u",
        "colab_type": "code",
        "colab": {}
      },
      "source": [
        "np.random.seed(22324)\n",
        "\n",
        "# randomize initial centroids\n",
        "def randomize_centroids(data, k):\n",
        "    random_indices = np.arange(len(data))\n",
        "    np.random.shuffle(random_indices)\n",
        "    random_indices = random_indices[:k]\n",
        "    centroids = [data[i] for i in range(len(data)) if i in random_indices]\n",
        "    return centroids\n",
        "\n",
        "assert(len(\n",
        "    randomize_centroids(\n",
        "        np.array([ \n",
        "            np.array([2,1,2]), \n",
        "            np.array([1,2,1]), \n",
        "            np.array([3,1,2]) \n",
        "             ]), \n",
        "        2)) == 2), \"Wrong function\""
      ],
      "execution_count": 0,
      "outputs": []
    },
    {
      "cell_type": "markdown",
      "metadata": {
        "id": "_2p1td0t4BwO",
        "colab_type": "text"
      },
      "source": [
        "Use function check_converge to check the stop creteria of the algorithm."
      ]
    },
    {
      "cell_type": "code",
      "metadata": {
        "id": "BwgM2DOn4FwP",
        "colab_type": "code",
        "colab": {}
      },
      "source": [
        "MAX_ITERATIONS = 10\n",
        "\n",
        "# return True if clusters have converged , otherwise, return False  \n",
        "def check_converge(centroids, old_centroids, num_iterations, threshold=0):\n",
        "    # if it reaches an iteration budget\n",
        "    if num_iterations > MAX_ITERATIONS:\n",
        "        return True\n",
        "    # check if the centroids don't move (or very slightly)\n",
        "    distances = np.array([euclidean_distance(c, o) for c, o in zip(centroids, old_centroids)])\n",
        "    if (distances <= threshold).all():\n",
        "        return True\n",
        "    return False"
      ],
      "execution_count": 0,
      "outputs": []
    },
    {
      "cell_type": "markdown",
      "metadata": {
        "id": "UrKANz_24Jpx",
        "colab_type": "text"
      },
      "source": [
        "Use function update_centroid to update the new positions for the current centroids based on the position of their members."
      ]
    },
    {
      "cell_type": "code",
      "metadata": {
        "id": "dlUz6nZc4OUc",
        "colab_type": "code",
        "colab": {}
      },
      "source": [
        "# centroids: a list of centers\n",
        "# clusters: a list of k elements. Each element i-th is a list of data points that are assigned to center i-th\n",
        "def update_centroids(centroids, clusters):\n",
        "    assert(len(centroids) == len(clusters))\n",
        "    clusters = np.array(clusters)\n",
        "    for i, cluster in enumerate(clusters):\n",
        "        centroids[i] = sum(cluster)/len(cluster)\n",
        "    return centroids"
      ],
      "execution_count": 0,
      "outputs": []
    },
    {
      "cell_type": "markdown",
      "metadata": {
        "id": "_MYCN5Oq4RBX",
        "colab_type": "text"
      },
      "source": [
        "Use the K-means algorithm scheleton below, with the functions you wrote above."
      ]
    },
    {
      "cell_type": "code",
      "metadata": {
        "id": "orJc7WcP4ULj",
        "colab_type": "code",
        "colab": {}
      },
      "source": [
        "# data : set of data points\n",
        "# k : number of clusters\n",
        "# centroids: initial list of centroids\n",
        "def kmeans(data, k=2, centroids=None):\n",
        "    \n",
        "    data = np.array(data)\n",
        "    # randomize the centroids if they are not given\n",
        "    if not centroids:\n",
        "        centroids = randomize_centroids(data, k)\n",
        "\n",
        "    old_centroids = centroids[:]\n",
        "\n",
        "    iterations = 0\n",
        "    while True:\n",
        "        iterations += 1\n",
        "\n",
        "        # init empty clusters\n",
        "        clusters = [[] for i in range(k)]\n",
        "\n",
        "        # assign each data point to the closest centroid\n",
        "        for datapoint in data:\n",
        "            # find the closest center of each data point\n",
        "            centroid_idx = find_closest_centroid(datapoint, centroids)\n",
        "            \n",
        "            # assign datapoint to the closest cluster\n",
        "            clusters[centroid_idx].append(datapoint)\n",
        "        \n",
        "        # keep the current position of centroids before changing them\n",
        "        old_centroids = centroids[:]\n",
        "        \n",
        "        # update centroids\n",
        "        centroids = update_centroids(centroids, clusters)\n",
        "        \n",
        "        # if the stop criteria are met, stop the algorithm\n",
        "        if check_converge(centroids, old_centroids, iterations):\n",
        "            break\n",
        "    \n",
        "    return centroids"
      ],
      "execution_count": 0,
      "outputs": []
    },
    {
      "cell_type": "markdown",
      "metadata": {
        "id": "8L1fC-f5BcH6",
        "colab_type": "text"
      },
      "source": [
        "Next, we will test our algorithm on [Fisher's Iris dataset](http://en.wikipedia.org/wiki/Iris_flower_data_set), and plot the resulting clusters in 3D."
      ]
    },
    {
      "cell_type": "code",
      "metadata": {
        "id": "ch88HSH-Bmiu",
        "colab_type": "code",
        "colab": {
          "base_uri": "https://localhost:8080/",
          "height": 607
        },
        "outputId": "83e6fb40-d58a-4c60-9653-c5b11635f338"
      },
      "source": [
        "# the sourcecode in this cell is inspired from \n",
        "# https://gist.github.com/bbarrilleaux/9841297\n",
        "\n",
        "%matplotlib inline\n",
        "\n",
        "from sklearn import datasets, cluster\n",
        "import numpy as np\n",
        "import matplotlib.pyplot as plt\n",
        "from mpl_toolkits.mplot3d import Axes3D\n",
        "\n",
        "\n",
        "# load data\n",
        "iris = datasets.load_iris()\n",
        "X_iris = iris.data\n",
        "y_iris = iris.target\n",
        "# do the clustering\n",
        "centers = kmeans(X_iris, k=3)\n",
        "labels = [find_closest_centroid(p, centers) for p in X_iris]\n",
        "\n",
        "#plot the clusters in color\n",
        "fig = plt.figure(1, figsize=(8, 8))\n",
        "plt.clf()\n",
        "ax = Axes3D(fig, rect=[0, 0, 1, 1], elev=8, azim=200)\n",
        "plt.cla()\n",
        "ax.scatter(X_iris[:, 3], X_iris[:, 0], X_iris[:, 2], c=labels)\n",
        "\n",
        "# moon\n",
        "# np.random.seed(0)\n",
        "# X, y = datasets.make_moons(2000, noise=0.2)\n",
        "\n",
        "# blob\n",
        "# np.random.seed(0)\n",
        "# X, y = datasets.make_blobs(n_samples=2000, centers=3, n_features=20, random_state=0)\n",
        "\n",
        "# centers = kmeans(X, k=3)\n",
        "# labels = [find_closest_centroid(p, centers) for p in X]\n",
        "\n",
        "# fig = plt.figure(1, figsize=(8, 8))\n",
        "# plt.clf()\n",
        "# plt.scatter(X[:,0], X[:,1], s=40, c=labels, cmap=plt.cm.Spectral)\n",
        "\n",
        "ax.w_xaxis.set_ticklabels([])\n",
        "ax.w_yaxis.set_ticklabels([])\n",
        "ax.w_zaxis.set_ticklabels([])\n",
        "ax.set_xlabel('Petal width')\n",
        "ax.set_ylabel('Sepal length')\n",
        "ax.set_zlabel('Petal length')\n",
        "\n",
        "plt.show()\n",
        "\n",
        "# Here we use sci-kit learn implementation of K-means\n",
        "# centers =cluster.KMeans(n_clusters=3)\n",
        "# centers.fit(X_iris) \n",
        "# labels = centers2.labels_"
      ],
      "execution_count": 19,
      "outputs": [
        {
          "output_type": "display_data",
          "data": {
            "image/png": "[encoded data removed]",
            "text/plain": [
              "<Figure size 576x576 with 1 Axes>"
            ]
          },
          "metadata": {
            "tags": []
          }
        }
      ]
    },
    {
      "cell_type": "markdown",
      "metadata": {
        "id": "WIiJpgfT5LTi",
        "colab_type": "text"
      },
      "source": [
        "# **2. Usecase: Network Intrusion**\n",
        "Some attacks attempt to flood a computer with network traffic. In some other cases, attacks attempt to exploit flaws in networking software in order to gain unauthorized access to a computer. Detecting an exploit in an incredibly large haystack of network requests is not easy.\n",
        "\n",
        "Some exploit behaviors follow known patterns such as scanning every port in a short of time, sending a burst of request to a port... However, the biggest threat may be the one that has never been detected and classified yet. Part of detecting potential network intrusions is detecting anomalies. These are connections that aren't known to be attacks, but, do not resemble connections that have been observed in the past.\n",
        "\n",
        "In this notebook, K-means is used to detect anomalous network connections based on statistics about each of them.\n",
        "\n",
        "# **2.1. Data**\n",
        "The data comes from [KDD Cup 1999](http://kdd.ics.uci.edu/databases/kddcup99/kddcup99.html). The dataset is about 708MB and contains about 4.9M connections. For each connection, the data set contains information like the number of bytes sent, login attempts, TCP errors, and so on. Each connection is one line of CSV-formatted data, containing 38 features: back, buffer_overflow, ftp_write, guess_passwd, imap, ipsweep, land, loadmodule, multihop, neptune, nmap, normal, perl, phf, pod, portsweep, rootkit, satan, smurf, spy, teardrop, warezclient, warezmaster. For more details about each features, please follow this [link](http://kdd.ics.uci.edu/databases/kddcup99/kddcup99.html).\n",
        "\n",
        "Many features take on the value 0 or 1, indicating the presence or absence of a behavior such as su_attempted in the 15th column. Some features are counts, like num_file_creations in the 17th columns. Some others are the number of sent and received bytes."
      ]
    },
    {
      "cell_type": "markdown",
      "metadata": {
        "id": "8yS28LE75fEB",
        "colab_type": "text"
      },
      "source": [
        "# **2.2. Clustering without using categorical features**\n",
        "First, we need to import some packages that are used in this notebook."
      ]
    },
    {
      "cell_type": "code",
      "metadata": {
        "id": "sCdvvLu_UfoM",
        "colab_type": "code",
        "colab": {}
      },
      "source": [
        "!apt-get install openjdk-8-jdk-headless -qq > /dev/null\n",
        "!wget -q https://downloads.apache.org/spark/spark-2.4.5/spark-2.4.5-bin-hadoop2.7.tgz\n",
        "!tar xf spark-2.4.5-bin-hadoop2.7.tgz\n",
        "!pip install -q findspark\n"
      ],
      "execution_count": 0,
      "outputs": []
    },
    {
      "cell_type": "code",
      "metadata": {
        "id": "n6EURi_4WIze",
        "colab_type": "code",
        "colab": {}
      },
      "source": [
        "import os\n",
        "os.environ[\"JAVA_HOME\"] = \"/usr/lib/jvm/java-8-openjdk-amd64\"\n",
        "os.environ[\"SPARK_HOME\"] = \"/content/spark-2.4.5-bin-hadoop2.7\"\n",
        "\n",
        "import findspark\n",
        "findspark.init()\n",
        "from pyspark.sql import SparkSession\n",
        "spark = SparkSession.builder.master(\"local[*]\").getOrCreate()"
      ],
      "execution_count": 0,
      "outputs": []
    },
    {
      "cell_type": "code",
      "metadata": {
        "id": "fjhYt5hl5jhn",
        "colab_type": "code",
        "colab": {
          "base_uri": "https://localhost:8080/",
          "height": 197
        },
        "outputId": "ed1dac22-8db5-4e5b-83a6-9f66088b7cfd"
      },
      "source": [
        "import os\n",
        "import sys\n",
        "import re\n",
        "import time\n",
        "from pyspark import SparkContext\n",
        "from pyspark import SparkContext\n",
        "from pyspark.sql import SQLContext\n",
        "from pyspark.sql.types import *\n",
        "from pyspark.sql import Row\n",
        "# from pyspark.sql.functions import *\n",
        "%matplotlib inline\n",
        "import matplotlib.pyplot as plt\n",
        "import pandas as pd\n",
        "import numpy as np\n",
        "import pyspark.sql.functions as func\n",
        "import matplotlib.patches as mpatches\n",
        "from operator import add\n",
        "from pyspark.mllib.clustering import KMeans, KMeansModel\n",
        "from operator import add\n",
        "from pyspark.mllib.tree import DecisionTree, DecisionTreeModel\n",
        "from pyspark.mllib.util import MLUtils\n",
        "from pyspark.mllib.regression import LabeledPoint\n",
        "import itertools\n",
        "\n",
        "input_path = \"kddcup.data\"\n",
        "raw_data = sc.textFile(input_path, 12)"
      ],
      "execution_count": 11,
      "outputs": [
        {
          "output_type": "error",
          "ename": "NameError",
          "evalue": "ignored",
          "traceback": [
            "\u001b[0;31m---------------------------------------------------------------------------\u001b[0m",
            "\u001b[0;31mNameError\u001b[0m                                 Traceback (most recent call last)",
            "\u001b[0;32m<ipython-input-11-72fa06212b6a>\u001b[0m in \u001b[0;36m<module>\u001b[0;34m()\u001b[0m\n\u001b[1;32m     24\u001b[0m \u001b[0;34m\u001b[0m\u001b[0m\n\u001b[1;32m     25\u001b[0m \u001b[0minput_path\u001b[0m \u001b[0;34m=\u001b[0m \u001b[0;34m\"kddcup.data\"\u001b[0m\u001b[0;34m\u001b[0m\u001b[0;34m\u001b[0m\u001b[0m\n\u001b[0;32m---> 26\u001b[0;31m \u001b[0mraw_data\u001b[0m \u001b[0;34m=\u001b[0m \u001b[0msc\u001b[0m\u001b[0;34m.\u001b[0m\u001b[0mtextFile\u001b[0m\u001b[0;34m(\u001b[0m\u001b[0minput_path\u001b[0m\u001b[0;34m,\u001b[0m \u001b[0;36m12\u001b[0m\u001b[0;34m)\u001b[0m\u001b[0;34m\u001b[0m\u001b[0;34m\u001b[0m\u001b[0m\n\u001b[0m",
            "\u001b[0;31mNameError\u001b[0m: name 'sc' is not defined"
          ]
        }
      ]
    },
    {
      "cell_type": "markdown",
      "metadata": {
        "id": "1v1SG-iL5w0y",
        "colab_type": "text"
      },
      "source": [
        "\n",
        "# **2.2.1. Loading data**\n",
        "There are two types of features: numerical features and categorical features. Currently, to get familiar with the data and the problem, we only use numerical features. In our data, we also have pre-defined groups for each connection, which we can use later as our \"ground truth\" for verifying our results.\n",
        "\n",
        "**Note 1:** we don't use the labels in the training phase !!!\n",
        "\n",
        "**Note 2:** in general, since clustering is un-supervised, you don't have access to ground truth. For this reason, several metrics to judge the quality of clustering have been devised. For a short overview of such metrics, follow this [link](https://en.wikipedia.org/wiki/Cluster_analysis#Internal_evaluation). Note that computing such metrics, that is trying to assess the quality of your clustering results, is as computationally intensive as computing the clustering itself!"
      ]
    },
    {
      "cell_type": "markdown",
      "metadata": {
        "id": "FS3iz8If6GJ0",
        "colab_type": "text"
      },
      "source": [
        "# **Question 1**\n",
        "Write function parseLine to construct a tuple of (label, vector) for each connection, extract the data that contains only the data points (without label), then print the number of connections.\n",
        "\n",
        "Where,\n",
        "\n",
        "* label is the pre-defined label of each connection\n",
        "* vector is a numpy array that contains values of all features, but the label and the categorial features at index 1,2,3 of each connection. Each vector is a data point."
      ]
    },
    {
      "cell_type": "code",
      "metadata": {
        "id": "knYPoqA76QD6",
        "colab_type": "code",
        "colab": {}
      },
      "source": [
        ""
      ],
      "execution_count": 0,
      "outputs": []
    },
    {
      "cell_type": "markdown",
      "metadata": {
        "id": "6ZDpco1v6UVy",
        "colab_type": "text"
      },
      "source": [
        "# **Question 2**\n",
        "Using K-means algorithm of MLLIB, cluster the connections into two groups then plot the result. Why two groups? In this case, we are just warming up, we're testing things around, so \"two groups\" has no particular meaning.\n",
        "\n",
        "You can use the following parameters:\n",
        "\n",
        "* maxIterations=10\n",
        "* runs=10\n",
        "* initializationMode=\"random\"\n",
        "Discuss the result from your figure."
      ]
    },
    {
      "cell_type": "code",
      "metadata": {
        "id": "3kdG4sMv8eYF",
        "colab_type": "code",
        "colab": {}
      },
      "source": [
        ""
      ],
      "execution_count": 0,
      "outputs": []
    },
    {
      "cell_type": "markdown",
      "metadata": {
        "id": "TLvdPHfJ8e8y",
        "colab_type": "text"
      },
      "source": [
        "One of the simplest method to evaluate our result is calculate the Within Set Sum of Squared Errors (WSSSE), or simply, 'Sum of Squared Errors'. An error of a data point is defined as it's distance to the closest cluster center. \n",
        "We will now use a version of euclidean_distance that assumes the arguments to be numpy arrays, which is really faster, it will come to be useful because this function will be use several million times."
      ]
    },
    {
      "cell_type": "code",
      "metadata": {
        "id": "ymbwIzGN8q-D",
        "colab_type": "code",
        "colab": {}
      },
      "source": [
        "def euclidean_distance(a, b):\n",
        "    c = a - b\n",
        "    return np.sqrt(c.T.dot(c))"
      ],
      "execution_count": 0,
      "outputs": []
    },
    {
      "cell_type": "code",
      "metadata": {
        "id": "llV2WcwZ8r1C",
        "colab_type": "code",
        "colab": {}
      },
      "source": [
        "from operator import add\n",
        "t1 = time.time()\n",
        "# Evaluate clustering by computing Within Set Sum of Squared Errors\n",
        "def error(clusters, point):\n",
        "    closest_center = clusters.centers[clusters.predict(point)]\n",
        "    return euclidean_distance(closest_center, point)**2\n",
        "\n",
        "WSSSE = data.map(lambda point: error(clusters, point)).reduce(add)\n",
        "print(\"Within Set Sum of Squared Error = \" + str(WSSSE))\n",
        "print(time.time() - t1)"
      ],
      "execution_count": 0,
      "outputs": []
    },
    {
      "cell_type": "markdown",
      "metadata": {
        "id": "lmlN2FMK83cx",
        "colab_type": "text"
      },
      "source": [
        "# **Question 3**\n",
        "This is a good opportunity to use the given labels to get an intuitive sense of what went into these two clusters, by counting the labels within each cluster. Use the following code that uses the model to assign each data point to a cluster, and counts occurrences of cluster and label pairs. What do you think about the result ?"
      ]
    },
    {
      "cell_type": "code",
      "metadata": {
        "id": "q5vVFp0789UI",
        "colab_type": "code",
        "colab": {}
      },
      "source": [
        "clusterLabelCount = labelsAndData.map(lambda row: ((clusters.predict(row[1]), row[0]), 1)).reduceByKey(add)\n",
        "\n",
        "for item in clusterLabelCount.collect():\n",
        "    print(item)"
      ],
      "execution_count": 0,
      "outputs": []
    },
    {
      "cell_type": "markdown",
      "metadata": {
        "id": "5YDrkZ_f9AT0",
        "colab_type": "text"
      },
      "source": [
        "Your Comment"
      ]
    },
    {
      "cell_type": "markdown",
      "metadata": {
        "id": "rfPEd5Lm9DWe",
        "colab_type": "text"
      },
      "source": [
        "# **2.2.4. Choosing K**\n",
        "How many clusters are appropriate for a dataset? In particular, for our own dataset, it's clear that there are 23 distinct behavior patterns in the data, so it seems that k could be at least 23, or likely, even more. In other cases, we even don't have any information about the number of patterns at all (remember, generally your data is not labelled!). Our task now is finding a good value of  k . For doing that, we have to build and evaluate models with different values of  k . A clustering could be considered good if each data point were near to its closest centroid. One of the ways to evaluate a model is calculating the Mean of Squared Errors of all data points."
      ]
    },
    {
      "cell_type": "markdown",
      "metadata": {
        "id": "alINfoNB9Rc7",
        "colab_type": "text"
      },
      "source": [
        "# **Question 4**\n",
        "Use the function below to calculate the MSE of each model that is corresponding to each value of  k . Plot the results. From the obtained result, what is the best value for  k  ? Why ?"
      ]
    },
    {
      "cell_type": "code",
      "metadata": {
        "id": "p5syyYMf9Vyj",
        "colab_type": "code",
        "colab": {}
      },
      "source": [
        "\n",
        "# k: the number of clusters\n",
        "k_range = range(5, 126, 20)\n",
        "\n",
        "def clusteringScore(data, k):\n",
        "    clusters = KMeans.train(data, k, maxIterations=10, runs=10, initializationMode=\"random\")\n",
        "    # calculate mean square error\n",
        "    WSSSE = data.map(lambda point: error(clusters, point)).reduce(add)\n",
        "    #WSSSE = clusters.computeCost(data)\n",
        "    return WSSSE\n",
        "\n",
        "scores = [clusteringScore(data, k) for k in k_range]\n",
        "for score in scores:\n",
        "    print(score)\n",
        "    \n",
        "# plot results\n",
        "plt.scatter(k_range, scores)\n",
        "plt.xlabel('k')\n",
        "plt.ylabel('clustering score')"
      ],
      "execution_count": 0,
      "outputs": []
    },
    {
      "cell_type": "markdown",
      "metadata": {
        "id": "J0Imqbdq9cMQ",
        "colab_type": "text"
      },
      "source": [
        "Your comments"
      ]
    },
    {
      "cell_type": "markdown",
      "metadata": {
        "id": "vwM5hPwo9e4g",
        "colab_type": "text"
      },
      "source": [
        "# **2.2.5 Normalizing features**\n",
        "K-means clustering treats equally all dimensions/directions of the space and therefore tends to produce more or less spherical (rather than elongated) clusters. In this situation, leaving variances uneven is equivalent to putting more weight on variables with smaller variance, so clusters will tend to be separated along variables with greater variance.\n",
        "\n",
        "In our notebook, since Euclidean distance is used, the clusters will be influenced strongly by the magnitudes of the variables, especially by outliers. Normalizing will remove this bias.\n",
        "\n",
        "Each feature can be normalized by converting it to a standard score. This means subtracting the mean of the feature’s values from each value, and dividing by the standard deviation\n",
        "\\begin{align}\n",
        "normalize_i=\\frac{feature_i - \\mu_i}{\\sigma_i}\n",
        "\\end{align}\n",
        "Where,\n",
        "* $normalize_i$  is the normalized value of feature $i$ \n",
        "* $\\mu_i$ is the mean of feature $i$ \n",
        "* $\\sigma_i$ is the standard deviation of feature $i$"
      ]
    },
    {
      "cell_type": "markdown",
      "metadata": {
        "id": "2VhRGrrX-ebI",
        "colab_type": "text"
      },
      "source": [
        "# **Question 5**\n",
        "Complete the code below to normalize the data. Print the first 5 lines of the new data.\n",
        "\n",
        "HINT: If $\\sigma_i=0$ then ${normalize}_i = {feature}_i−\\mu_i$"
      ]
    },
    {
      "cell_type": "code",
      "metadata": {
        "id": "1-MRHR1C-uv8",
        "colab_type": "code",
        "colab": {}
      },
      "source": [
        "\n",
        "def normalizeData(data):\n",
        "    # number of connections\n",
        "    n = data.count()\n",
        "# your code #\n",
        "\n",
        "    def normalize(point):\n",
        "        return (point - means) / stdevs\n",
        "    return data.map(normalize)\n",
        "\n",
        "normalizedData = normalizeData(data).cache()\n",
        "print(normalizedData.take(2))\n",
        "print(data.take(2))"
      ],
      "execution_count": 0,
      "outputs": []
    },
    {
      "cell_type": "markdown",
      "metadata": {
        "id": "pYUvACr4-2hC",
        "colab_type": "text"
      },
      "source": [
        "# **Question 6**\n",
        "Using the new data, build different models with different values of $k\\in [60,70,80,90,100,110]$ . Evaluate the results by plotting them and choose the best value of $k$."
      ]
    },
    {
      "cell_type": "code",
      "metadata": {
        "id": "-N-i6KiD_E4Y",
        "colab_type": "code",
        "colab": {}
      },
      "source": [
        "# Your code"
      ],
      "execution_count": 0,
      "outputs": []
    },
    {
      "cell_type": "markdown",
      "metadata": {
        "id": "7I4zU04i_GcG",
        "colab_type": "text"
      },
      "source": [
        "Your comments"
      ]
    },
    {
      "cell_type": "markdown",
      "metadata": {
        "id": "MBOcSlxe_MDY",
        "colab_type": "text"
      },
      "source": [
        "# **Question 7**\n",
        "Plot the clustering result to see the difference between before and after normalizing features. Discuss about the difference and explain why and if normalization was useful."
      ]
    },
    {
      "cell_type": "code",
      "metadata": {
        "id": "22LKjlJO_QIm",
        "colab_type": "code",
        "colab": {}
      },
      "source": [
        ""
      ],
      "execution_count": 0,
      "outputs": []
    },
    {
      "cell_type": "markdown",
      "metadata": {
        "id": "RUBUCUn8_Qa1",
        "colab_type": "text"
      },
      "source": [
        ""
      ]
    },
    {
      "cell_type": "markdown",
      "metadata": {
        "id": "zdxMuLMw_TaO",
        "colab_type": "text"
      },
      "source": [
        "# **2.3. Clustering using categorical features**\n",
        "# **2.3.1 Loading data**\n",
        "In the previous section, we ignored the categorical features of our data: this is not a good idea, since these categorical features can be important in providing useful information for clustering. The problem is that K-means (or at least, the one we have developed and the one we use from MLLib) only work with data points in a metric space. Informally, this means that operations such as addition, substraction and computing the mean of data points are trivial and well defined. For a more formal definition of what a metric space is, follow this [link](https://en.wikipedia.org/wiki/Metric_space#Definition).\n",
        "\n",
        "What we will do next is to transform each categorical features into one or more numerical features. This approach is very widespread: imagine for example you wanted to use K-means to cluster text data. Then, the idea is to transform text data in  d -dimensional vectors, and a nice way to do it is to use [word2vec](http://deeplearning4j.org/word2vec). If you're interested, follow this link to a nice blog post on the problem.\n",
        "\n",
        "There are two approaches:\n",
        "\n",
        "* **Approach 1:** mapping one categorial feature to one numerical feature. The values in each categorical feature are encoded into unique numbers of the new numerical feature. For example, ['VERY HOT','HOT', 'COOL', 'COLD', 'VERY COLD'] will be encoded into [0,1,2,3,4,5]. However, by using this method, we implicit assume that the value of 'VERY HOT' is smaller than 'HOT'... This is not generally true.\n",
        "\n",
        "* Approach 2: mapping mapping one categorial feature to multiple numerical features. Basically, a single variable with  n  observations and  d  distinct values, to  d  binary variables with  n  observations each. Each observation indicating the presence (1) or absence (0) of the  dth  binary variable. For example, ['house', 'car', 'tooth', 'car'] becomes\n",
        "\\begin{align}\n",
        "[\n",
        "[1,0,0,0],\n",
        "[0,1,0,0],\n",
        "[0,0,1,0],\n",
        "[0,0,0,1],\n",
        "]\n",
        "\\end{align}\n",
        "We call the second approach \"one-hot encoding\". By using this approach, we keep the same role for all values of categorical features."
      ]
    },
    {
      "cell_type": "markdown",
      "metadata": {
        "id": "FEsKjMt__9Ad",
        "colab_type": "text"
      },
      "source": [
        "# **Question 8**\n",
        "Calculate the number of distinct categorical features value (at index 1,2,3). Then construct a new input data using one-hot encoding for these categorical features (don't throw away numerical features!)."
      ]
    },
    {
      "cell_type": "code",
      "metadata": {
        "id": "a5AK5Jq_ACVf",
        "colab_type": "code",
        "colab": {}
      },
      "source": [
        ""
      ],
      "execution_count": 0,
      "outputs": []
    },
    {
      "cell_type": "markdown",
      "metadata": {
        "id": "nKOlIS6BADut",
        "colab_type": "text"
      },
      "source": [
        "# **2.3.2. Building models**\n",
        "# **Question 9**\n",
        "Using the new data, cluster the connections with different values of $k\\in [80,90,100,110,120,130,140,150,160]$. Evaluate the results and choose the best value of  k  as previous questions."
      ]
    },
    {
      "cell_type": "code",
      "metadata": {
        "id": "FW6yVSB6AVMM",
        "colab_type": "code",
        "colab": {}
      },
      "source": [
        ""
      ],
      "execution_count": 0,
      "outputs": []
    },
    {
      "cell_type": "markdown",
      "metadata": {
        "id": "8aohxU0oAVp7",
        "colab_type": "text"
      },
      "source": [
        "\n",
        "Your comments\n",
        "\n"
      ]
    },
    {
      "cell_type": "markdown",
      "metadata": {
        "id": "BKTxsr0jAXbz",
        "colab_type": "text"
      },
      "source": [
        "# **2.4. Anomaly detection**\n",
        "When we have a new connection data (e.g., one that we never saw before), we simply find the closest cluster for it, and use this information as a proxy to indicate whether the data point is anomalous or not. A simple approach to decide wheter there is an anomaly or not, amounts to measuring the new data point’s distance to its nearest centroid. If this distance exceeds some thresholds, it is anomalous."
      ]
    },
    {
      "cell_type": "markdown",
      "metadata": {
        "id": "kbIY1FvNAiyn",
        "colab_type": "text"
      },
      "source": [
        "# **Question 10**\n",
        "Build your model with the best value of $k$ in your opinion. Then, detect the anomalous connections in our data. Plot and discuss your result.\n",
        "\n",
        "HINT: The threshold has strong impact on the result. Be careful when choosing it! A simple way to choose the threshold's value is picking up a distance of a data point from among known data. For example, the 100th-farthest data point distance can be an option."
      ]
    },
    {
      "cell_type": "code",
      "metadata": {
        "id": "kCBvMiNUAyKG",
        "colab_type": "code",
        "colab": {}
      },
      "source": [
        "#Your code"
      ],
      "execution_count": 0,
      "outputs": []
    },
    {
      "cell_type": "markdown",
      "metadata": {
        "id": "GcFPD2vQAze1",
        "colab_type": "text"
      },
      "source": [
        "Your comments"
      ]
    }
  ]
}